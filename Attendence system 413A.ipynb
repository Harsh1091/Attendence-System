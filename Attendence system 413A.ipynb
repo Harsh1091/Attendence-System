{
  "nbformat": 4,
  "nbformat_minor": 0,
  "metadata": {
    "colab": {
      "provenance": []
    },
    "kernelspec": {
      "name": "python3",
      "display_name": "Python 3"
    },
    "language_info": {
      "name": "python"
    }
  },
  "cells": [
    {
      "cell_type": "code",
      "metadata": {
        "colab": {
          "base_uri": "https://localhost:8080/"
        },
        "id": "hDADLRn-6zsg",
        "outputId": "2f57e683-8074-475e-ff7e-d9d90eb83592"
      },
      "source": [
        "!pip install pyqrcode"
      ],
      "execution_count": null,
      "outputs": [
        {
          "output_type": "stream",
          "name": "stdout",
          "text": [
            "Collecting pyqrcode\n",
            "  Downloading PyQRCode-1.2.1.zip (41 kB)\n",
            "\u001b[?25l\r\u001b[K     |███████▉                        | 10 kB 32.3 MB/s eta 0:00:01\r\u001b[K     |███████████████▋                | 20 kB 19.8 MB/s eta 0:00:01\r\u001b[K     |███████████████████████▌        | 30 kB 15.7 MB/s eta 0:00:01\r\u001b[K     |███████████████████████████████▎| 40 kB 14.1 MB/s eta 0:00:01\r\u001b[K     |████████████████████████████████| 41 kB 589 kB/s \n",
            "\u001b[?25hBuilding wheels for collected packages: pyqrcode\n",
            "  Building wheel for pyqrcode (setup.py) ... \u001b[?25l\u001b[?25hdone\n",
            "  Created wheel for pyqrcode: filename=PyQRCode-1.2.1-py3-none-any.whl size=36247 sha256=2c51358dfd38684b1d0f3d7f28ba8c6179a31135ef9f4b126049fa72fb3a17bc\n",
            "  Stored in directory: /root/.cache/pip/wheels/aa/14/ad/f09824edf35fdc5fd8acc01b60ff57f858f212a2d5c41dddd2\n",
            "Successfully built pyqrcode\n",
            "Installing collected packages: pyqrcode\n",
            "Successfully installed pyqrcode-1.2.1\n"
          ]
        }
      ]
    },
    {
      "cell_type": "code",
      "metadata": {
        "colab": {
          "base_uri": "https://localhost:8080/"
        },
        "id": "VEVShcIq681p",
        "outputId": "f0f4d253-33ce-4b1a-ab48-bb9d970cf558"
      },
      "source": [
        "!pip install pypng"
      ],
      "execution_count": null,
      "outputs": [
        {
          "output_type": "stream",
          "name": "stdout",
          "text": [
            "Collecting pypng\n",
            "  Downloading pypng-0.0.21-py3-none-any.whl (48 kB)\n",
            "\u001b[?25l\r\u001b[K     |██████▉                         | 10 kB 37.4 MB/s eta 0:00:01\r\u001b[K     |█████████████▋                  | 20 kB 26.1 MB/s eta 0:00:01\r\u001b[K     |████████████████████▍           | 30 kB 12.8 MB/s eta 0:00:01\r\u001b[K     |███████████████████████████▎    | 40 kB 10.2 MB/s eta 0:00:01\r\u001b[K     |████████████████████████████████| 48 kB 3.4 MB/s \n",
            "\u001b[?25hInstalling collected packages: pypng\n",
            "Successfully installed pypng-0.0.21\n"
          ]
        }
      ]
    },
    {
      "cell_type": "code",
      "source": [
        "# Import QRCode from pyqrcode\n",
        "import pyqrcode\n",
        "import png\n",
        "from pyqrcode import QRCode\n",
        "\n",
        "\n",
        "# String which represents the QR code\n",
        "s = \"https://docs.google.com/forms/d/e/1FAIpQLScUawf4FCsUqqIbeP6-ObEUPMrc97qhw9Vl0RuNuzl7MJeFpQ/viewform?usp=pp_url&entry.4315207=VISHAL+OHAL\"\n",
        "\n",
        "# Generate QR code\n",
        "url = pyqrcode.create(s)\n",
        "\n",
        "# Create and save the svg file naming \"myqr.svg\"\n",
        "url.svg(\"myqr.svg\", scale = 8)\n",
        "\n",
        "# Create and save the png file naming \"myqr.png\"\n",
        "url.png('myqr.png', scale = 6)"
      ],
      "metadata": {
        "id": "6zz4vhb8NhKZ"
      },
      "execution_count": null,
      "outputs": []
    }
  ]
}